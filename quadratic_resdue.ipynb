{
 "cells": [
  {
   "cell_type": "markdown",
   "metadata": {},
   "source": [
    "# 數論"
   ]
  },
  {
   "cell_type": "markdown",
   "metadata": {},
   "source": [
    "## 二次剩餘\n",
    "觀察發現平方數除以 $n$ 的餘數只有`少數`可能<br>\n",
    "這些餘數稱為模 $n$ 的**二次剩餘**"
   ]
  },
  {
   "cell_type": "code",
   "execution_count": 14,
   "metadata": {},
   "outputs": [
    {
     "data": {
      "text/plain": [
       "{0, 1, 2, 4, 8, 9, 13, 15, 16}"
      ]
     },
     "execution_count": 14,
     "metadata": {},
     "output_type": "execute_result"
    }
   ],
   "source": [
    "n=17\n",
    "set(k**2 %n for k in range(n))"
   ]
  },
  {
   "cell_type": "markdown",
   "metadata": {},
   "source": [
    " ### Examples\n",
    "| mod $n$ | 二次剩餘|\n",
    "| --:|:------:|\n",
    "| 4|0,1 |\n",
    "| 8|0,1,4 |\n",
    "| 3|0,1 |\n",
    "| 5|0,1,4 |\n",
    "| 7|0,1,2,4 |\n",
    "| 10|0,1,4,5,6,9 |\n",
    "| 11|0,1,3,4,5,9 |\n",
    "| 13|0,1,3,4,9,10,12 |\n",
    " \n",
    "## Some Applications\n",
    "1. 不存在整數 $m,n$ 使 $m^2+n^2=2019$.\n",
    "> 理由是 $m^2,n^2 \\equiv 0,1 \\pmod{4}$, 故 $m^2+n^2 \\equiv 0,1,2 \\pmod{4}$.<br>\n",
    "> 這與 $2019\\equiv 3\\pmod{4}$ 矛盾.\n",
    "\n",
    "2. 若整數 $a,b,c$ 滿足 $a^2+b^2=c^2$, 必有一數是三個倍數.\n",
    ">不妨設 $a,b,c$都不是三的倍數, 則 $a^2,b^2,c^2 \\equiv 1 \\pmod{3}$.<br>\n",
    ">因此, $a^2+b^2=c^2$ 模3 之後變成 $1+1\\equiv 1\\pmod{3}$, 矛盾.\n",
    "\n",
    "3. 承上題, 總是有 $4|abc$.\n",
    ">若$a,b,c$ 都是偶數, 命題無聊. <br>\n",
    ">設$a,b,c$不全為偶數, 若$a,b$是奇數, 則$a^2+b^2\\equiv 2\\pmod{4}$ 不是二次剩餘.<br>\n",
    ">因此, $a,b$一奇一偶, 從而 $c$為奇數. 不妨設 $a$ 為奇數, 則有 $a^2+b^2\\equiv 1+4, 1+0 = 5, 1 \\pmod{8}$. 但 5 不是模8的二次剩餘.<br>\n",
    ">故 $b^2\\equiv 0 \\pmod{8}$, 即 $4|b$. QED.\n",
    "\n",
    "### 習題\n",
    "1. 承上題, 證明 $60|abc$.\n",
    "2. 數列 $1, 11, 111, 1111, \\cdots$, 共有幾項是完全平方數？\n",
    "3. 若 $3|a^2+b^2$, 則 $3|a$ 且 $3|b$."
   ]
  },
  {
   "cell_type": "markdown",
   "metadata": {},
   "source": [
    "## Theorems\n",
    "1. 若$p>2$為質數, 則所有的模p的二次剩餘有$(p+1)/2$ 個:\n",
    ">$0^2, 1^2, 2^2, \\cdots , (\\dfrac{p-1}{2})^2$\n",
    "2. 若 $a, b$ 是模 $p$ 的二次剩餘, 則 $ab$ 也是.\n",
    "3. 若 $a$ 是模 $p$ 的二次剩餘, 而$b$是模 $p$ 的非二次剩餘, 則 $ab$ 是模 $p$ 的非二次剩餘.\n",
    "4. 若 $a, b$ 是模 $p$ 的非二次剩餘, 則 $ab$ 是模 $p$ 的二次剩餘.\n",
    "\n",
    "q|a| b | ab\n",
    "---|---|---|---\n",
    "是否為二次剩餘| T | T | T\n",
    "    |T|F|F\n",
    "    |F|T|F\n",
    "    |F|F|T\n",
    "\n",
    "若定義符號 $\\displaystyle(\\frac{a}{p})=1$ 當 $a$ 是模 $p$ 的二次剩餘, 而$\\displaystyle(\\frac{a}{p})=-1$ 當 $a$ 是模 $p$ 的非二次剩餘.<br>\n",
    "則2,3,4性質可簡述為 $\\displaystyle (\\frac{ab}{p})=(\\frac{a}{p})(\\frac{b}{p})$.\n",
    "\n",
    "5.(Gauss) 當$p$ 為質數且 $gcd(a,p)=1$ 時, $\\displaystyle (\\frac{a}{p}) \\equiv a^{(p-1)/2} \\pmod{p}$.\n",
    ">若 $a$為二次剩餘, 則存在$b$, 使 $a\\equiv b^2\\pmod{p}$. 由費馬小定理, $a^{(p-1)/2} \\equiv b^{p-1} \\equiv 1\\pmod{p}$.<br>\n",
    ">而方程式$x^{(p-1)/2} \\equiv 1\\pmod{p}$, 最多有 $(p-1)/2$ 個解, 又非零的二次剩餘恰有 $(p-1)/2$ 個<br>\n",
    ">從而 $x^{(p-1)/2} \\equiv 1\\pmod{p}$ 的解恰是非零的二次剩餘總數. <br>\n",
    ">因此, 我們證明了$ (\\frac{a}{p}) =1$ 與 $a^{(p-1)/2} \\equiv 1\\pmod{p}$  是等價的  <br>\n",
    "> 若 $a$ 不是二次剩餘, 則 $a^{(p-1)/2} \\equiv -1\\pmod{p}$. (why?) <br>\n",
    ">從而定理證畢\n",
    "\n",
    "### Examples\n",
    "1. 如上表, 3,6 都是模7的非二次剩餘, 但 $3\\cdot 6\\equiv 4$ 是模7的二次剩餘.\n",
    "2. $2$ 是否是模$23$的二次剩餘?\n"
   ]
  },
  {
   "cell_type": "code",
   "execution_count": 17,
   "metadata": {},
   "outputs": [
    {
     "data": {
      "text/plain": [
       "1"
      ]
     },
     "execution_count": 17,
     "metadata": {},
     "output_type": "execute_result"
    }
   ],
   "source": [
    "(2**11) % 23  #. 因此, (2/23) = 1"
   ]
  },
  {
   "cell_type": "markdown",
   "metadata": {},
   "source": [
    "### 習題\n",
    "1.  -1 是模 p 的二次剩餘當且僅當 $p\\equiv 1 \\pmod{4}$.\n",
    "> $(-1)^{(p-1)/2} =1 \\pmod{p} $ if and only if $(p-1)/2$ is even, i.e. $p\\equiv 1\\pmod{4}$.\n",
    "2. 若質數$p$ 滿足 $p|a^2+1$, 則 $p\\equiv 1 \\pmod{4}$.\n",
    "3. 若 $23|a^2+b^2$, 則 $ 23|a$ 且 $23|b$.\n",
    "4. 解整數方程 $a^2+b^2 =253$.\n",
    "5. 若 $199|a^2+b^2$, 則 $a^2+b^2>70000$.\n",
    "6. 用電腦解$a^2+b^2=n$ for arbitrary $n$."
   ]
  },
  {
   "cell_type": "code",
   "execution_count": 133,
   "metadata": {
    "scrolled": true
   },
   "outputs": [
    {
     "name": "stdout",
     "output_type": "stream",
     "text": [
      "5 25\n",
      "11 23\n",
      "17 19\n"
     ]
    },
    {
     "data": {
      "image/png": "[encoded data removed]",
      "text/plain": [
       "<Figure size 360x360 with 1 Axes>"
      ]
     },
     "metadata": {
      "needs_background": "light"
     },
     "output_type": "display_data"
    }
   ],
   "source": [
    "import matplotlib.pyplot as plt\n",
    "import numpy as np\n",
    "n=5*13*2*5\n",
    "a,b = 0, int(n**0.5)\n",
    "LA=[a]\n",
    "LB=[b]\n",
    "SA=[]\n",
    "SB=[]\n",
    "while a<=b:\n",
    "    tmp=a**2+b**2\n",
    "    if tmp==n: \n",
    "        print(a,b)\n",
    "        SA.append(a)\n",
    "        SB.append(b)\n",
    "    if tmp>n: b-=1 \n",
    "    else:  a+=1\n",
    "    LA.append(a)\n",
    "    LB.append(b)\n",
    "    \n",
    "X=np.linspace(0,n**0.5,100)\n",
    "Y=np.sqrt(n-X**2)\n",
    "plt.figure(figsize=(5,5))\n",
    "plt.xlim=(0,n**0.5)\n",
    "plt.ylim=(0,n**0.5)\n",
    "plt.plot(SA,SB, 'bo')\n",
    "plt.plot(X,Y, 'b-', linewidth=1)\n",
    "plt.plot(LA,LB,'r-', linewidth=1)\n",
    "plt.show()"
   ]
  },
  {
   "cell_type": "markdown",
   "metadata": {},
   "source": [
    "## Gauss' method to comput $(2/p)$\n",
    "We explain it by example. Take $p=17$.<br>\n",
    "Then $2\\cdot k = 2k \\pmod{17}$ for $k=1,2,\\cdots, 4$ <br>\n",
    "Also,<br> $2\\cdot 5 = -7\\pmod{17},$<br> $2\\cdot 6 = -5\\pmod{17}$,<br> $2\\cdot 7 = -3\\pmod{17}$,<br> $2\\cdot 8 = -1\\pmod{17}$.<br>\n",
    "So, $2^8\\cdot 8! = 2\\cdot 4\\cdot 6\\cdot 8 \\cdot 7\\cdot 5\\cdot 3 \\cdot 1\\pmod{17}$<br>\n",
    "i.e. $2^8\\equiv 1\\pmod{17}$, which means $(\\dfrac{2}{17})=1$.\n",
    "\n",
    "Actually, $2=6^2\\pmod{17}$.\n",
    "\n",
    "### Result: $(\\dfrac{2}{p}) = (-1)^{(p^2-1)/8}$.\n",
    "This is the same to say that <br>\n",
    "$(\\dfrac{2}{p}) =1$ iff $p\\equiv 1,7 \\pmod{8}$ and <br>\n",
    " $(\\dfrac{2}{p}) =-1$ iff $p\\equiv 3,5 \\pmod{8}$.\n"
   ]
  },
  {
   "cell_type": "markdown",
   "metadata": {},
   "source": [
    "## The SOP to compute $(\\dfrac{a}{p})$, where $p$ is an odd prime and $p\\nmid a$.\n",
    "* Step 1. Replace $a$ by the residue when $a$ is divided by $p$, thus $0<a<p$.\n",
    "* Step 2. Factor $a$ as $q_1^{a_1}q_2^{a_2}\\cdots q_k^{a_k}$, then $(\\dfrac{a}{p})=\\prod\\limits_i (\\dfrac{q_i}{p})^{a_i} = \\prod\\limits_{2\\nmid a_i}(\\dfrac{q_i}{p})$.\n",
    "* Step 3. Use $(\\dfrac{2}{p}) = (-1)^{(p^2-1)/8}$ when $q_i=2$.\n",
    "* Step 4. For odd $p,q$, use the Quadratic Reciprocity Law: $(\\dfrac{q}{p}) (\\dfrac{p}{q}) = (-1)^{(p-1)(q-1)/4}$<br>\n",
    "to reduce the denumerator in the symbol $(\\dfrac{.}{.})$.\n",
    "\n",
    "|    p (mod 4) | q (mod 4)  | $(\\dfrac{p}{q})$\n",
    "|:----------|:--------:|--------------\n",
    "|     1             |    1               | $(\\dfrac{q}{p})$\n",
    "|       1           |    3              |$(\\dfrac{q}{p})$\n",
    "|       3          |    1              |$(\\dfrac{q}{p})$\n",
    "|        **3**         |    **3**              |$-(\\dfrac{q}{p})$"
   ]
  },
  {
   "cell_type": "markdown",
   "metadata": {},
   "source": [
    "### Example: \n",
    "* $(\\dfrac{6}{17})=(\\dfrac{2}{17})(\\dfrac{3}{17}) = (\\dfrac{3}{17})=(\\dfrac{17}{3})=(\\dfrac{2}{3})=-1$.\n",
    "\n",
    "\n",
    "* $(\\dfrac{37}{101})=(\\dfrac{101}{37})=(\\dfrac{101}{37})=(\\dfrac{27}{37})=(\\dfrac{3}{37})=(\\dfrac{37}{3})=(\\dfrac{1}{3})=1$."
   ]
  },
  {
   "cell_type": "code",
   "execution_count": 93,
   "metadata": {},
   "outputs": [
    {
     "name": "stdout",
     "output_type": "stream",
     "text": [
      "21\n"
     ]
    }
   ],
   "source": [
    "for x in range(101):\n",
    "    if x*x % 101 == 37: \n",
    "        print(x)\n",
    "        break"
   ]
  },
  {
   "cell_type": "markdown",
   "metadata": {},
   "source": [
    "因此, $21^2\\equiv 37 \\pmod{101}$\n",
    "### Excercise\n",
    "1. Compute $(\\dfrac{203}{2003})$\n",
    "\n",
    "\n",
    "2. Assume prime $p\\neq 3$. Prove that $(\\dfrac{3}{p})=1$ iff $p\\equiv \\pm 1\\pmod{12}$ and<br>\n",
    "    $(\\dfrac{3}{p})=-1$ iff $p\\equiv \\pm 5\\pmod{12}$ "
   ]
  },
  {
   "cell_type": "markdown",
   "metadata": {},
   "source": [
    "### Question (AIME I 2016 Q12) : Find the least positive integer $m$ such that $m^2 - m + 11$ is a product of at least four not necessarily distinct primes.\n",
    "> **Solution**:<br>\n",
    "Let $p|m^2-m+11$, then $p|4m^2-4m+44=(2m-1)^2+43$. Therefore, $(2m-1)^2\\equiv -43 \\pmod{p}$. That's $(\\dfrac{-43}{p})=1$. Clearly, $p$ is odd. <br>\n",
    "Let's compute $(\\dfrac{-43}{p})$ for small $p$, \n",
    "\n",
    "| $p$ |    3 |   5|7    |   11|   13|   17|  23|\n",
    "| --- | --- |---|---|---|---|---|---|\n",
    "|$(\\dfrac{-43}{p})$|-1  | -1 | -1 |  1|  1|  1| 1|\n",
    "<br>\n",
    "\n",
    ">First of all, $m^2-m+11\\neq 11^4$. For, $m^2< m^2-m+11 < (m+1)^2$ when $m>11$, so $m^2-m+1$ cannot be a perfect square when $m> 11$.<br>\n",
    "Therefore, the least possible value of $m^2 - m + 11$ is not less than $11^3\\cdot 13$, which implies $m>121$.<br><br>\n",
    "Moreover, $(2m-1)^2\\equiv -43\\equiv 1^2 \\pmod{11}$ implies $m \\equiv 0,1 \\pmod{11}$, <br>\n",
    "and $(2m-1)^2\\equiv -43\\equiv 3^2\\pmod{13}$ implies $m \\equiv  2,-1  \\pmod{13}$.<br>\n",
    "By CRT, $m\\equiv 132,77,67,12 \\pmod{143}$.<br>\n",
    "Together with $m>121$, we see that the least desired $m$ is not less than $132$. Note that $132^2-132+11 = 11^3\\cdot 13$.<br>\n",
    "<br>\n",
    "Thus, the answer is $132$."
   ]
  },
  {
   "cell_type": "code",
   "execution_count": null,
   "metadata": {},
   "outputs": [],
   "source": []
  }
 ],
 "metadata": {
  "kernelspec": {
   "display_name": "Python 3",
   "language": "python",
   "name": "python3"
  },
  "language_info": {
   "codemirror_mode": {
    "name": "ipython",
    "version": 3
   },
   "file_extension": ".py",
   "mimetype": "text/x-python",
   "name": "python",
   "nbconvert_exporter": "python",
   "pygments_lexer": "ipython3",
   "version": "3.6.7"
  }
 },
 "nbformat": 4,
 "nbformat_minor": 2
}
